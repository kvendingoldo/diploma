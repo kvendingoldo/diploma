{
 "cells": [
  {
   "cell_type": "code",
   "execution_count": 74,
   "metadata": {},
   "outputs": [],
   "source": [
    "from sympy import *\n",
    "from IPython.display import display\n",
    "\n",
    "# переменные\n",
    "x1, x2, t = var('x1 x2 t', real=True)\n",
    "\n",
    "# константы\n",
    "Ak, Al = var('A_k, A_l')\n",
    "Bk, Bl = var('B_k, B_l')\n",
    "Ck, Cl = var('C_k, C_l')\n",
    "\n",
    "# базисные функции\n",
    "N_k = Ak * x1 + Bk * x2 + Ck\n",
    "N_l = Al * x1 + Bl * x2 + Cl\n",
    "\n",
    "# коэффициенты\n",
    "a_k, a_mk, a_2mk = symbols('a_k, a_{m+k}, a_{2m+k}')\n",
    "\n",
    "# выражения\n",
    "N_11, N_22, N_12, N_p = symbols('N_11 N_22 N_12 N_p')\n",
    "\n",
    "# константы\n",
    "rho, rho_a, gamma, theta = symbols('rho rho_a gamma theta')\n",
    "f, W, g, c, Pa, h = symbols('f W g c Pa h')\n",
    "\n",
    "# misc\n",
    "k = Symbol(\"k\")\n",
    "M = Symbol(\"M\")\n",
    "\n",
    "# функции\n",
    "#H, q1, q2 = symbols('H q1 q2')\n",
    "\n",
    "q1 = Sum(a_k(t) * N_k, (k, 1, M))\n",
    "q2 = Sum(a_mk(t) * N_k, (k, 1, M))\n",
    "H = Sum(a_2mk(t) * N_k, (k, 1, M))\n",
    "\n",
    "init_printing(use_latex='mathjax')\n",
    "\n",
    "# уравнения\n",
    "eq1 = Derivative(q1, x1) + Derivative(q2, x2) + Derivative(rho * H, t)\n",
    "eq2 = Derivative(q1, t) + Derivative((q1**2 / H), x1) + Derivative(((q1 * q2) / H), x2) - Derivative((N_11 - N_p), x1) - Derivative(N_12, x2) - f * q2 - (gamma**2 * rho_a * W**2 * cos(theta)) + (g/c**2) * (1/rho) * (q1 * sqrt(q1**2 + q2**2) / H**2) - Pa * Derivative(H, x1) - (rho * g * H) * Derivative(h, x1)\n",
    "eq3 = Derivative(q2, t) + Derivative(((q1 * q2) / H), x1) + Derivative((q2**2 / H), x2) - Derivative((N_22 - N_p), x2) - Derivative(N_12, x2) + f * q1 - (gamma**2 * rho_a * W**2 * sin(theta)) + (g/c**2) * (1/rho) * (q2 * sqrt(q1**2 + q2**2) / H**2) - Pa * Derivative(H, x2) - (rho * g * H) * Derivative(h, x2)\n",
    "\n",
    "\n",
    "\n",
    "\n"
   ]
  },
  {
   "cell_type": "code",
   "execution_count": 75,
   "metadata": {},
   "outputs": [
    {
     "data": {
      "text/latex": [
       "$$\\frac{\\partial}{\\partial t}\\left(\\rho \\sum_{k=1}^{M} \\left(A_{k} x_{1} + B_{k} x_{2} + C_{k}\\right) \\operatorname{a_{2m+k}}{\\left (t \\right )}\\right) + \\frac{\\partial}{\\partial x_{1}} \\sum_{k=1}^{M} \\left(A_{k} x_{1} + B_{k} x_{2} + C_{k}\\right) \\operatorname{a_{k}}{\\left (t \\right )} + \\frac{\\partial}{\\partial x_{2}} \\sum_{k=1}^{M} \\left(A_{k} x_{1} + B_{k} x_{2} + C_{k}\\right) \\operatorname{a_{m+k}}{\\left (t \\right )}$$"
      ],
      "text/plain": [
       "  ⎛    M                                   ⎞      ⎛  M                        \n",
       "  ⎜   ___                                  ⎟      ⎜ ___                       \n",
       "  ⎜   ╲                                    ⎟      ⎜ ╲                         \n",
       "∂ ⎜    ╲   (Aₖ⋅x₁ + Bₖ⋅x₂ + Cₖ)⋅a_{2m+k}(t)⎟    ∂ ⎜  ╲   (Aₖ⋅x₁ + Bₖ⋅x₂ + Cₖ)⋅\n",
       "──⎜ρ⋅  ╱                                   ⎟ + ───⎜  ╱                        \n",
       "∂t⎜   ╱                                    ⎟   ∂x₁⎜ ╱                         \n",
       "  ⎜   ‾‾‾                                  ⎟      ⎜ ‾‾‾                       \n",
       "  ⎝  k = 1                                 ⎠      ⎝k = 1                      \n",
       "\n",
       "     ⎞      ⎛  M                                  ⎞\n",
       "     ⎟      ⎜ ___                                 ⎟\n",
       "     ⎟      ⎜ ╲                                   ⎟\n",
       "aₖ(t)⎟    ∂ ⎜  ╲   (Aₖ⋅x₁ + Bₖ⋅x₂ + Cₖ)⋅a_{m+k}(t)⎟\n",
       "     ⎟ + ───⎜  ╱                                  ⎟\n",
       "     ⎟   ∂x₂⎜ ╱                                   ⎟\n",
       "     ⎟      ⎜ ‾‾‾                                 ⎟\n",
       "     ⎠      ⎝k = 1                                ⎠"
      ]
     },
     "execution_count": 75,
     "metadata": {},
     "output_type": "execute_result"
    }
   ],
   "source": [
    "eq1"
   ]
  },
  {
   "cell_type": "code",
   "execution_count": 76,
   "metadata": {},
   "outputs": [
    {
     "data": {
      "text/latex": [
       "$$\\frac{\\partial}{\\partial x_{1}}\\left(\\left(A_{k} x_{1} + B_{k} x_{2} + C_{k}\\right) \\operatorname{a_{k}}{\\left (t \\right )} \\sum_{k=1}^{M} 1\\right) + \\frac{\\partial}{\\partial x_{2}}\\left(\\left(A_{k} x_{1} + B_{k} x_{2} + C_{k}\\right) \\operatorname{a_{m+k}}{\\left (t \\right )} \\sum_{k=1}^{M} 1\\right) + \\frac{\\partial}{\\partial t}\\left(\\rho \\left(A_{k} x_{1} + B_{k} x_{2} + C_{k}\\right) \\operatorname{a_{2m+k}}{\\left (t \\right )} \\sum_{k=1}^{M} 1\\right)$$"
      ],
      "text/plain": [
       "   ⎛                             M    ⎞      ⎛                                \n",
       "   ⎜                            ___   ⎟      ⎜                                \n",
       "   ⎜                            ╲     ⎟      ⎜                                \n",
       " ∂ ⎜                             ╲   1⎟    ∂ ⎜                                \n",
       "───⎜(Aₖ⋅x₁ + Bₖ⋅x₂ + Cₖ)⋅aₖ(t)⋅  ╱    ⎟ + ───⎜(Aₖ⋅x₁ + Bₖ⋅x₂ + Cₖ)⋅a_{m+k}(t)⋅\n",
       "∂x₁⎜                            ╱     ⎟   ∂x₂⎜                                \n",
       "   ⎜                            ‾‾‾   ⎟      ⎜                                \n",
       "   ⎝                           k = 1  ⎠      ⎝                                \n",
       "\n",
       "  M    ⎞     ⎛                                     M    ⎞\n",
       " ___   ⎟     ⎜                                    ___   ⎟\n",
       " ╲     ⎟     ⎜                                    ╲     ⎟\n",
       "  ╲   1⎟   ∂ ⎜                                     ╲   1⎟\n",
       "  ╱    ⎟ + ──⎜ρ⋅(Aₖ⋅x₁ + Bₖ⋅x₂ + Cₖ)⋅a_{2m+k}(t)⋅  ╱    ⎟\n",
       " ╱     ⎟   ∂t⎜                                    ╱     ⎟\n",
       " ‾‾‾   ⎟     ⎜                                    ‾‾‾   ⎟\n",
       "k = 1  ⎠     ⎝                                   k = 1  ⎠"
      ]
     },
     "execution_count": 76,
     "metadata": {},
     "output_type": "execute_result"
    }
   ],
   "source": [
    "eq1 = simplify(eq1)\n",
    "eq1\n"
   ]
  },
  {
   "cell_type": "code",
   "execution_count": 77,
   "metadata": {},
   "outputs": [
    {
     "data": {
      "text/latex": [
       "$$\\iint \\left(A_{l} x_{1} + B_{l} x_{2} + C_{l}\\right) \\left(\\frac{\\partial}{\\partial x_{1}}\\left(\\left(A_{k} x_{1} + B_{k} x_{2} + C_{k}\\right) \\operatorname{a_{k}}{\\left (t \\right )} \\sum_{k=1}^{M} 1\\right) + \\frac{\\partial}{\\partial x_{2}}\\left(\\left(A_{k} x_{1} + B_{k} x_{2} + C_{k}\\right) \\operatorname{a_{m+k}}{\\left (t \\right )} \\sum_{k=1}^{M} 1\\right) + \\frac{\\partial}{\\partial t}\\left(\\rho \\left(A_{k} x_{1} + B_{k} x_{2} + C_{k}\\right) \\operatorname{a_{2m+k}}{\\left (t \\right )} \\sum_{k=1}^{M} 1\\right)\\right)\\, dx_{1}\\, dx_{2}$$"
      ],
      "text/plain": [
       "⌠ ⌠                                                                           \n",
       "⎮ ⎮                      ⎛   ⎛                             M    ⎞      ⎛      \n",
       "⎮ ⎮                      ⎜   ⎜                            ___   ⎟      ⎜      \n",
       "⎮ ⎮                      ⎜   ⎜                            ╲     ⎟      ⎜      \n",
       "⎮ ⎮                      ⎜ ∂ ⎜                             ╲   1⎟    ∂ ⎜      \n",
       "⎮ ⎮ (Aₗ⋅x₁ + Bₗ⋅x₂ + Cₗ)⋅⎜───⎜(Aₖ⋅x₁ + Bₖ⋅x₂ + Cₖ)⋅aₖ(t)⋅  ╱    ⎟ + ───⎜(Aₖ⋅x₁\n",
       "⎮ ⎮                      ⎜∂x₁⎜                            ╱     ⎟   ∂x₂⎜      \n",
       "⎮ ⎮                      ⎜   ⎜                            ‾‾‾   ⎟      ⎜      \n",
       "⎮ ⎮                      ⎝   ⎝                           k = 1  ⎠      ⎝      \n",
       "⌡ ⌡                                                                           \n",
       "\n",
       "                                                                              \n",
       "                            M    ⎞     ⎛                                     M\n",
       "                           ___   ⎟     ⎜                                    __\n",
       "                           ╲     ⎟     ⎜                                    ╲ \n",
       "                            ╲   1⎟   ∂ ⎜                                     ╲\n",
       " + Bₖ⋅x₂ + Cₖ)⋅a_{m+k}(t)⋅  ╱    ⎟ + ──⎜ρ⋅(Aₖ⋅x₁ + Bₖ⋅x₂ + Cₖ)⋅a_{2m+k}(t)⋅  ╱\n",
       "                           ╱     ⎟   ∂t⎜                                    ╱ \n",
       "                           ‾‾‾   ⎟     ⎜                                    ‾‾\n",
       "                          k = 1  ⎠     ⎝                                   k =\n",
       "                                                                              \n",
       "\n",
       "                  \n",
       "    ⎞⎞            \n",
       "_   ⎟⎟            \n",
       "    ⎟⎟            \n",
       "   1⎟⎟            \n",
       "    ⎟⎟ d(x₁) d(x₂)\n",
       "    ⎟⎟            \n",
       "‾   ⎟⎟            \n",
       " 1  ⎠⎠            \n",
       "                  "
      ]
     },
     "execution_count": 77,
     "metadata": {},
     "output_type": "execute_result"
    }
   ],
   "source": [
    "eq1 = Integral(Mul(eq1, N_l), x1, x2)\n",
    "eq1"
   ]
  },
  {
   "cell_type": "code",
   "execution_count": null,
   "metadata": {},
   "outputs": [],
   "source": []
  }
 ],
 "metadata": {
  "kernelspec": {
   "display_name": "Python 3",
   "language": "python",
   "name": "python3"
  },
  "language_info": {
   "codemirror_mode": {
    "name": "ipython",
    "version": 3
   },
   "file_extension": ".py",
   "mimetype": "text/x-python",
   "name": "python",
   "nbconvert_exporter": "python",
   "pygments_lexer": "ipython3",
   "version": "3.6.4"
  }
 },
 "nbformat": 4,
 "nbformat_minor": 2
}
